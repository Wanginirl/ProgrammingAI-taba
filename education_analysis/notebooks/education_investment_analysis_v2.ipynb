{
 "cells": [
  {
   "cell_type": "markdown",
   "id": "1ad165fd",
   "metadata": {},
   "source": [
    "%% [markdown]\n",
    "# Education Investment Analysis\n",
    "\n",
    "This notebook analyzes education investment data across EU countries, including economic indicators and policy impacts."
   ]
  },
  {
   "cell_type": "code",
   "execution_count": 1,
   "id": "a8a24452",
   "metadata": {},
   "outputs": [],
   "source": [
    "# %%\n",
    "# Import required libraries\n",
    "import sys\n",
    "import os\n",
    "import json\n",
    "from pathlib import Path\n",
    "import pandas as pd\n",
    "import numpy as np\n",
    "import matplotlib.pyplot as plt\n",
    "import seaborn as sns\n",
    "from dotenv import load_dotenv\n",
    "import matplotlib"
   ]
  },
  {
   "cell_type": "code",
   "execution_count": 2,
   "id": "f482aa4d",
   "metadata": {},
   "outputs": [
    {
     "data": {
      "text/plain": [
       "True"
      ]
     },
     "execution_count": 2,
     "metadata": {},
     "output_type": "execute_result"
    }
   ],
   "source": [
    "# %%\n",
    "# Load environment variables from .env file\n",
    "load_dotenv(Path('..').resolve() / '.env')"
   ]
  },
  {
   "cell_type": "code",
   "execution_count": 3,
   "id": "a1b4bee2",
   "metadata": {},
   "outputs": [],
   "source": [
    "# %%\n",
    "# Add project root to Python path\n",
    "project_root = Path('..').resolve()\n",
    "sys.path.append(str(project_root))"
   ]
  },
  {
   "cell_type": "code",
   "execution_count": 4,
   "id": "04133396",
   "metadata": {},
   "outputs": [],
   "source": [
    "# %%\n",
    "# Import project modules\n",
    "from src.data_processing.db_manager import DatabaseManager\n",
    "from src.data_processing.data_cleaner import DataCleaner\n",
    "from src.data_collection.eurostat_collector import EurostatCollector"
   ]
  },
  {
   "cell_type": "code",
   "execution_count": 5,
   "id": "c12b8fac",
   "metadata": {},
   "outputs": [],
   "source": [
    "# %%\n",
    "# Set plotting style\n",
    "plt.style.use('seaborn-v0_8')  # Use the v0.8 compatible style\n",
    "sns.set_theme()  # Use seaborn's default theme\n",
    "plt.rcParams['figure.figsize'] = [12, 6]\n",
    "plt.rcParams['font.size'] = 12\n",
    "plt.rcParams['font.sans-serif'] = ['Arial Unicode MS']"
   ]
  },
  {
   "cell_type": "markdown",
   "id": "e1989916",
   "metadata": {},
   "source": [
    "%% [markdown]\n",
    "## Step 1: Data Collection and Storage"
   ]
  },
  {
   "cell_type": "code",
   "execution_count": 6,
   "id": "ff382554",
   "metadata": {},
   "outputs": [
    {
     "name": "stdout",
     "output_type": "stream",
     "text": [
      "Step 1: Data Collection\n",
      "--------------------------------------------------\n"
     ]
    }
   ],
   "source": [
    "# %%\n",
    "print(\"Step 1: Data Collection\")\n",
    "print(\"-\" * 50)"
   ]
  },
  {
   "cell_type": "code",
   "execution_count": 7,
   "id": "00a538fc",
   "metadata": {},
   "outputs": [],
   "source": [
    "# Initialize collectors and managers\n",
    "collector = EurostatCollector()\n",
    "db_manager = DatabaseManager()\n",
    "cleaner = DataCleaner()"
   ]
  },
  {
   "cell_type": "code",
   "execution_count": 8,
   "id": "fe65fc6a",
   "metadata": {},
   "outputs": [
    {
     "name": "stderr",
     "output_type": "stream",
     "text": [
      "2024-12-16 00:06:51,427 - INFO - Getting education investment data...\n",
      "2024-12-16 00:06:51,431 - INFO - Using cached education investment data\n"
     ]
    },
    {
     "name": "stdout",
     "output_type": "stream",
     "text": [
      "\n",
      "Collecting education investment data...\n",
      "Collected 2585 education investment records\n"
     ]
    }
   ],
   "source": [
    "# Collect fresh data\n",
    "print(\"\\nCollecting education investment data...\")\n",
    "education_data_raw = collector.get_education_investment_data()\n",
    "print(f\"Collected {len(education_data_raw)} education investment records\")"
   ]
  },
  {
   "cell_type": "code",
   "execution_count": 9,
   "id": "d49643b5",
   "metadata": {},
   "outputs": [
    {
     "name": "stderr",
     "output_type": "stream",
     "text": [
      "2024-12-16 00:06:51,435 - INFO - Getting economic indicators data...\n",
      "2024-12-16 00:06:51,437 - INFO - Using cached economic indicators data\n"
     ]
    },
    {
     "name": "stdout",
     "output_type": "stream",
     "text": [
      "\n",
      "Collecting economic indicators...\n",
      "Collected 378 economic indicator records\n"
     ]
    }
   ],
   "source": [
    "print(\"\\nCollecting economic indicators...\")\n",
    "economic_data_raw = collector.get_economic_indicators()\n",
    "print(f\"Collected {len(economic_data_raw)} economic indicator records\")"
   ]
  },
  {
   "cell_type": "code",
   "execution_count": 10,
   "id": "5f464a06",
   "metadata": {},
   "outputs": [
    {
     "name": "stderr",
     "output_type": "stream",
     "text": [
      "2024-12-16 00:06:51,439 - INFO - Getting education policy documents...\n"
     ]
    },
    {
     "name": "stdout",
     "output_type": "stream",
     "text": [
      "\n",
      "Collecting education policies...\n",
      "Collected 1 policy documents\n"
     ]
    }
   ],
   "source": [
    "print(\"\\nCollecting education policies...\")\n",
    "policy_docs = collector.get_education_policies()\n",
    "print(f\"Collected {len(policy_docs)} policy documents\")"
   ]
  },
  {
   "cell_type": "markdown",
   "id": "9f1d4cff",
   "metadata": {},
   "source": [
    "%% [markdown]\n",
    "## Step 2: Database Storage"
   ]
  },
  {
   "cell_type": "code",
   "execution_count": 11,
   "id": "4288e889",
   "metadata": {},
   "outputs": [
    {
     "name": "stdout",
     "output_type": "stream",
     "text": [
      "\n",
      "Step 2: Data Storage\n",
      "--------------------------------------------------\n"
     ]
    }
   ],
   "source": [
    "# %%\n",
    "print(\"\\nStep 2: Data Storage\")\n",
    "print(\"-\" * 50)"
   ]
  },
  {
   "cell_type": "code",
   "execution_count": null,
   "id": "3a8c2b7c",
   "metadata": {},
   "outputs": [
    {
     "name": "stdout",
     "output_type": "stream",
     "text": [
      "\n",
      "Connecting to databases...\n"
     ]
    }
   ],
   "source": [
    "# Store data in databases\n",
    "print(\"\\nConnecting to databases...\")\n",
    "try:\n",
    "    db_manager.connect_postgres()\n",
    "    print(\"Successfully connected to PostgreSQL\")\n",
    "except Exception as e:\n",
    "    print(f\"Error connecting to PostgreSQL: {str(e)}\")\n",
    "    print(\"Cannot proceed without PostgreSQL connection\")\n",
    "    sys.exit(1)"
   ]
  },
  {
   "cell_type": "code",
   "execution_count": null,
   "id": "84c95674",
   "metadata": {},
   "outputs": [],
   "source": [
    "try:\n",
    "    db_manager.connect_mongo()\n",
    "    print(\"Successfully connected to MongoDB\")\n",
    "except Exception as e:\n",
    "    print(f\"Warning: MongoDB connection failed: {str(e)}\")\n",
    "    print(\"Continuing without MongoDB...\")"
   ]
  },
  {
   "cell_type": "code",
   "execution_count": null,
   "id": "b28a08c4",
   "metadata": {},
   "outputs": [],
   "source": [
    "# %%\n",
    "print(\"\\nSetting up database tables...\")\n",
    "try:\n",
    "    db_manager.create_tables()\n",
    "    print(\"Successfully set up PostgreSQL tables\")\n",
    "except Exception as e:\n",
    "    print(f\"Error setting up tables: {str(e)}\")\n",
    "    sys.exit(1)"
   ]
  },
  {
   "cell_type": "code",
   "execution_count": null,
   "id": "a6ef0e4f",
   "metadata": {},
   "outputs": [],
   "source": [
    "# %%\n",
    "print(\"\\nSaving data to PostgreSQL...\")\n",
    "try:\n",
    "    # Insert data using the specific insert methods\n",
    "    db_manager.insert_education_data(education_data_raw)\n",
    "    db_manager.insert_economic_data(economic_data_raw)\n",
    "    print(\"Successfully saved data to PostgreSQL\")\n",
    "except Exception as e:\n",
    "    print(f\"Error saving to PostgreSQL: {str(e)}\")\n",
    "    sys.exit(1)"
   ]
  },
  {
   "cell_type": "code",
   "execution_count": null,
   "id": "765edade",
   "metadata": {},
   "outputs": [],
   "source": [
    "# %%\n",
    "print(\"\\nSaving policy documents to MongoDB...\")\n",
    "if db_manager.mongo_db is not None:\n",
    "    try:\n",
    "        db_manager.save_to_mongo('education_policies', policy_docs)\n",
    "        print(\"Successfully saved policy documents to MongoDB\")\n",
    "    except Exception as e:\n",
    "        print(f\"Warning: Failed to save to MongoDB: {str(e)}\")\n",
    "        print(\"Continuing without policy data...\")\n",
    "else:\n",
    "    print(\"Skipping MongoDB storage as connection is not available\")"
   ]
  },
  {
   "cell_type": "markdown",
   "id": "bb7fde66",
   "metadata": {},
   "source": [
    "%% [markdown]\n",
    "## Step 3: Data Retrieval and Analysis"
   ]
  },
  {
   "cell_type": "code",
   "execution_count": null,
   "id": "3f20af2d",
   "metadata": {},
   "outputs": [],
   "source": [
    "# %%\n",
    "print(\"\\nStep 3: Data Retrieval and Analysis\")\n",
    "print(\"-\" * 50)"
   ]
  },
  {
   "cell_type": "code",
   "execution_count": null,
   "id": "49831333",
   "metadata": {},
   "outputs": [],
   "source": [
    "# Get education investment data from PostgreSQL\n",
    "print(\"\\nRetrieving data from databases...\")\n",
    "try:\n",
    "    education_data = db_manager.get_education_data()\n",
    "    print(f\"Retrieved {len(education_data)} education investment records\")\n",
    "\n",
    "    economic_data = db_manager.get_economic_data()\n",
    "    print(f\"Retrieved {len(economic_data)} economic indicator records\")\n",
    "except Exception as e:\n",
    "    print(f\"Error retrieving data from PostgreSQL: {str(e)}\")\n",
    "    sys.exit(1)"
   ]
  },
  {
   "cell_type": "code",
   "execution_count": null,
   "id": "214291b0",
   "metadata": {},
   "outputs": [],
   "source": [
    "# Try to get policy data from MongoDB\n",
    "policy_docs = []\n",
    "if db_manager.mongo_db is not None:\n",
    "    try:\n",
    "        policy_data = db_manager.query_mongo('education_policies')\n",
    "        policy_docs = list(policy_data)\n",
    "        print(f\"Retrieved {len(policy_docs)} education policy documents\")\n",
    "    except Exception as e:\n",
    "        print(f\"Warning: Could not retrieve MongoDB data: {str(e)}\")\n",
    "        print(\"Continuing without policy data...\")"
   ]
  },
  {
   "cell_type": "markdown",
   "id": "9c7c6ac5",
   "metadata": {},
   "source": [
    "%% [markdown]\n",
    "## Step 4: Data Analysis"
   ]
  },
  {
   "cell_type": "code",
   "execution_count": null,
   "id": "d493a28b",
   "metadata": {},
   "outputs": [],
   "source": [
    "# %%\n",
    "print(\"\\nStep 4: Data Analysis\")\n",
    "print(\"-\" * 50)"
   ]
  },
  {
   "cell_type": "code",
   "execution_count": null,
   "id": "b0f3d829",
   "metadata": {},
   "outputs": [],
   "source": [
    "# Clean and prepare data\n",
    "education_data_cleaned = cleaner.clean_education_data(education_data)\n",
    "print(f\"\\nCleaned education data shape: {education_data_cleaned.shape}\")"
   ]
  },
  {
   "cell_type": "markdown",
   "id": "0dbc6da2",
   "metadata": {},
   "source": [
    "%% [markdown]\n",
    "### Analysis 1: Major EU Countries Investment Trends"
   ]
  },
  {
   "cell_type": "code",
   "execution_count": null,
   "id": "c05566e4",
   "metadata": {},
   "outputs": [],
   "source": [
    "# %%\n",
    "print(\"\\nAnalyzing major EU countries...\")\n",
    "major_countries = ['DE', 'FR', 'IT', 'ES', 'PL']\n",
    "major_country_data = education_data_cleaned[\n",
    "    education_data_cleaned['geo_time_period'].isin(major_countries)\n",
    "]"
   ]
  },
  {
   "cell_type": "code",
   "execution_count": null,
   "id": "c1d1eb85",
   "metadata": {},
   "outputs": [],
   "source": [
    "country_names = {\n",
    "    'DE': 'Germany',\n",
    "    'FR': 'France',\n",
    "    'IT': 'Italy',\n",
    "    'ES': 'Spain',\n",
    "    'PL': 'Poland'\n",
    "}"
   ]
  },
  {
   "cell_type": "code",
   "execution_count": null,
   "id": "7298adf9",
   "metadata": {},
   "outputs": [],
   "source": [
    "# Visualization 1: Investment Trends\n",
    "plt.figure(figsize=(15, 8))\n",
    "colors = {'DE': 'blue', 'FR': 'red', 'IT': 'green', 'ES': 'orange', 'PL': 'purple'}"
   ]
  },
  {
   "cell_type": "code",
   "execution_count": null,
   "id": "237bd833",
   "metadata": {},
   "outputs": [],
   "source": [
    "for country in major_countries:\n",
    "    country_data = major_country_data[major_country_data['geo_time_period'] == country]\n",
    "    if not country_data.empty:\n",
    "        country_data = country_data.sort_values('year')\n",
    "        plt.plot(country_data['year'], \n",
    "                country_data['value'], \n",
    "                label=country_names[country],\n",
    "                color=colors[country],\n",
    "                marker='o')"
   ]
  },
  {
   "cell_type": "code",
   "execution_count": null,
   "id": "f95c0778",
   "metadata": {},
   "outputs": [],
   "source": [
    "plt.title('Education Investment Trends in Major EU Countries')\n",
    "plt.xlabel('Year')\n",
    "plt.ylabel('Investment Value')\n",
    "plt.legend()\n",
    "plt.grid(True, linestyle='--', alpha=0.7)\n",
    "plt.gca().spines['top'].set_visible(False)\n",
    "plt.gca().spines['right'].set_visible(False)\n",
    "plt.tight_layout()\n",
    "plt.show()"
   ]
  },
  {
   "cell_type": "code",
   "execution_count": null,
   "id": "9b83cbf2",
   "metadata": {},
   "outputs": [],
   "source": [
    "# %%\n",
    "# Calculate and display CAGR\n",
    "print(\"\\nCompound Annual Growth Rate (CAGR) by Country:\")\n",
    "print(\"-\" * 40)"
   ]
  },
  {
   "cell_type": "code",
   "execution_count": null,
   "id": "d92b22d1",
   "metadata": {},
   "outputs": [],
   "source": [
    "for country in major_countries:\n",
    "    country_data = major_country_data[major_country_data['geo_time_period'] == country]\n",
    "    if len(country_data) >= 2:\n",
    "        # Sort by year and get first and last values\n",
    "        country_data = country_data.sort_values('year')\n",
    "        first_year = country_data.iloc[0]\n",
    "        last_year = country_data.iloc[-1]\n",
    "        \n",
    "        # Calculate CAGR\n",
    "        years = last_year['year'] - first_year['year']\n",
    "        if years > 0:\n",
    "            cagr = (((last_year['value'] / first_year['value']) ** (1/years)) - 1) * 100\n",
    "            print(f\"{country_names[country]}: {cagr:.2f}%\")"
   ]
  },
  {
   "cell_type": "markdown",
   "id": "18846910",
   "metadata": {},
   "source": [
    "%% [markdown]\n",
    "### Analysis 2: Economic Correlation Analysis"
   ]
  },
  {
   "cell_type": "code",
   "execution_count": null,
   "id": "5b3052fb",
   "metadata": {},
   "outputs": [],
   "source": [
    "# %%\n",
    "print(\"\\nAnalyzing correlation with economic indicators...\")\n",
    "print(\"-\" * 40)"
   ]
  },
  {
   "cell_type": "code",
   "execution_count": null,
   "id": "dbd93f5e",
   "metadata": {},
   "outputs": [],
   "source": [
    "# Merge education and economic data\n",
    "merged_data = pd.merge(\n",
    "    education_data_cleaned,\n",
    "    economic_data,\n",
    "    left_on=['geo_time_period', 'year'],\n",
    "    right_on=['country_code', 'year'],\n",
    "    how='inner'\n",
    ")"
   ]
  },
  {
   "cell_type": "code",
   "execution_count": null,
   "id": "5ac64f1b",
   "metadata": {},
   "outputs": [],
   "source": [
    "if not merged_data.empty:\n",
    "    # Calculate correlations\n",
    "    correlation_vars = ['value', 'gdp_growth', 'employment_rate', 'gdp_per_capita']\n",
    "    correlations = merged_data[correlation_vars].corr()\n",
    "    \n",
    "    # Plot correlation heatmap\n",
    "    plt.figure(figsize=(10, 8))\n",
    "    sns.heatmap(correlations, annot=True, cmap='coolwarm', center=0)\n",
    "    plt.title('Correlation between Education Investment and Economic Indicators')\n",
    "    plt.tight_layout()\n",
    "    plt.show()\n",
    "    \n",
    "    # Print key findings\n",
    "    edu_gdp_corr = correlations.loc['value', 'gdp_per_capita']\n",
    "    edu_emp_corr = correlations.loc['value', 'employment_rate']\n",
    "    print(f\"\\nKey Correlations:\")\n",
    "    print(f\"Education Investment vs GDP per capita: {edu_gdp_corr:.2f}\")\n",
    "    print(f\"Education Investment vs Employment Rate: {edu_emp_corr:.2f}\")"
   ]
  },
  {
   "cell_type": "markdown",
   "id": "23328c2c",
   "metadata": {},
   "source": [
    "%% [markdown]\n",
    "### Analysis 3: Policy Impact Analysis"
   ]
  },
  {
   "cell_type": "code",
   "execution_count": null,
   "id": "0af70f91",
   "metadata": {},
   "outputs": [],
   "source": [
    "# %%\n",
    "if policy_docs:\n",
    "    print(\"\\nAnalyzing Policy Impact...\")\n",
    "    print(\"-\" * 40)\n",
    "    \n",
    "    # Extract policy years and analyze investment changes\n",
    "    policy_years = []\n",
    "    policy_countries = []\n",
    "    \n",
    "    for doc in policy_docs:\n",
    "        if 'year' in doc and 'country' in doc:\n",
    "            policy_years.append(doc['year'])\n",
    "            policy_countries.append(doc['country'])\n",
    "    \n",
    "    if policy_years:\n",
    "        # Analyze investment changes around policy implementation\n",
    "        for country, year in zip(policy_countries, policy_years):\n",
    "            country_data = education_data_cleaned[\n",
    "                education_data_cleaned['geo_time_period'] == country\n",
    "            ]\n",
    "            \n",
    "            if not country_data.empty:\n",
    "                # Get investment before and after policy\n",
    "                before_policy = country_data[country_data['year'] < year]['value'].mean()\n",
    "                after_policy = country_data[country_data['year'] >= year]['value'].mean()\n",
    "                \n",
    "                change_pct = ((after_policy - before_policy) / before_policy) * 100\n",
    "                print(f\"\\nCountry: {country}\")\n",
    "                print(f\"Policy Year: {year}\")\n",
    "                print(f\"Average Investment Change: {change_pct:.2f}%\")"
   ]
  },
  {
   "cell_type": "markdown",
   "id": "fe41d27c",
   "metadata": {},
   "source": [
    "%% [markdown]\n",
    "### Analysis 4: Investment Efficiency Analysis"
   ]
  },
  {
   "cell_type": "code",
   "execution_count": null,
   "id": "74c4d0e8",
   "metadata": {},
   "outputs": [],
   "source": [
    "# %%\n",
    "print(\"\\nAnalyzing Investment Efficiency...\")\n",
    "print(\"-\" * 40)"
   ]
  },
  {
   "cell_type": "code",
   "execution_count": null,
   "id": "6b00e02e",
   "metadata": {},
   "outputs": [],
   "source": [
    "if not merged_data.empty:\n",
    "    # Calculate investment efficiency (GDP per capita / Education Investment)\n",
    "    merged_data['investment_efficiency'] = merged_data['gdp_per_capita'] / merged_data['value']\n",
    "    \n",
    "    # Get top 5 most efficient countries\n",
    "    latest_year = merged_data['year'].max()\n",
    "    latest_efficiency = merged_data[merged_data['year'] == latest_year]\n",
    "    top_efficient = latest_efficiency.nlargest(5, 'investment_efficiency')\n",
    "    \n",
    "    plt.figure(figsize=(12, 6))\n",
    "    sns.barplot(data=top_efficient, x='geo_time_period', y='investment_efficiency')\n",
    "    plt.title(f'Top 5 Countries by Investment Efficiency ({latest_year})')\n",
    "    plt.xlabel('Country')\n",
    "    plt.ylabel('Efficiency Ratio (GDP per capita / Investment)')\n",
    "    plt.xticks(rotation=45)\n",
    "    plt.tight_layout()\n",
    "    plt.show()\n",
    "    \n",
    "    print(\"\\nTop 5 Countries by Investment Efficiency:\")\n",
    "    for _, row in top_efficient.iterrows():\n",
    "        print(f\"{row['geo_time_period']}: {row['investment_efficiency']:.2f}\")"
   ]
  },
  {
   "cell_type": "markdown",
   "id": "2cf44829",
   "metadata": {},
   "source": [
    "%% [markdown]\n",
    "## Step 5: Cleanup"
   ]
  },
  {
   "cell_type": "code",
   "execution_count": null,
   "id": "8885cb8e",
   "metadata": {},
   "outputs": [],
   "source": [
    "# %%\n",
    "print(\"\\nStep 5: Cleanup\")\n",
    "print(\"-\" * 50)"
   ]
  },
  {
   "cell_type": "code",
   "execution_count": null,
   "id": "34636d9f",
   "metadata": {},
   "outputs": [],
   "source": [
    "# Close database connections\n",
    "print(\"\\nClosing database connections...\")\n",
    "db_manager.close_connections()"
   ]
  },
  {
   "cell_type": "code",
   "execution_count": null,
   "id": "c0c414d5",
   "metadata": {},
   "outputs": [],
   "source": [
    "print(\"\\nAnalysis completed successfully!\")"
   ]
  }
 ],
 "metadata": {
  "jupytext": {
   "cell_metadata_filter": "-all",
   "formats": "ipynb,py:light",
   "notebook_metadata_filter": "-all"
  },
  "kernelspec": {
   "display_name": "Python 3 (ipykernel)",
   "language": "python",
   "name": "python3"
  },
  "language_info": {
   "codemirror_mode": {
    "name": "ipython",
    "version": 3
   },
   "file_extension": ".py",
   "mimetype": "text/x-python",
   "name": "python",
   "nbconvert_exporter": "python",
   "pygments_lexer": "ipython3",
   "version": "3.11.2"
  }
 },
 "nbformat": 4,
 "nbformat_minor": 5
}
