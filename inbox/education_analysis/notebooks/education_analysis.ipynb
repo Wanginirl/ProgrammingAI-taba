{
 "cells": [
  {
   "cell_type": "markdown",
   "metadata": {},
   "source": [
    "# 教育数据分析流程\n",
    "\n",
    "本notebook展示了完整的教育数据分析流程，包括：\n",
    "1. 环境准备\n",
    "2. 数据库连接\n",
    "3. 数据收集\n",
    "4. 数据处理\n",
    "5. 数据分析\n",
    "6. 数据可视化"
   ]
  },
  {
   "cell_type": "markdown",
   "metadata": {},
   "source": [
    "## 1. 环境准备\n",
    "\n",
    "首先安装必要的依赖包："
   ]
  },
  {
   "cell_type": "markdown",
   "metadata": {},
   "source": [
    "导入所需的模块："
   ]
  },
  {
   "cell_type": "code",
   "execution_count": null,
   "metadata": {},
   "outputs": [
    {
     "name": "stdout",
     "output_type": "stream",
     "text": [
      "Requirement already satisfied: pandas in /Users/stark/.pyenv/versions/3.11.2/lib/python3.11/site-packages (2.1.3)\n",
      "Requirement already satisfied: numpy in /Users/stark/.pyenv/versions/3.11.2/lib/python3.11/site-packages (1.24.3)\n",
      "Requirement already satisfied: matplotlib in /Users/stark/.pyenv/versions/3.11.2/lib/python3.11/site-packages (3.9.1)\n",
      "Requirement already satisfied: seaborn in /Users/stark/.pyenv/versions/3.11.2/lib/python3.11/site-packages (0.13.2)\n",
      "Requirement already satisfied: plotly in /Users/stark/.pyenv/versions/3.11.2/lib/python3.11/site-packages (5.24.1)\n",
      "Requirement already satisfied: psycopg2-binary in /Users/stark/.pyenv/versions/3.11.2/lib/python3.11/site-packages (2.9.10)\n",
      "Requirement already satisfied: pymongo in /Users/stark/.pyenv/versions/3.11.2/lib/python3.11/site-packages (4.6.0)\n",
      "Requirement already satisfied: python-dotenv in /Users/stark/.pyenv/versions/3.11.2/lib/python3.11/site-packages (1.0.0)\n",
      "Requirement already satisfied: eurostat in /Users/stark/.pyenv/versions/3.11.2/lib/python3.11/site-packages (1.0.4)\n",
      "Requirement already satisfied: statsmodels in /Users/stark/.pyenv/versions/3.11.2/lib/python3.11/site-packages (0.14.4)\n",
      "Requirement already satisfied: python-dateutil>=2.8.2 in /Users/stark/.pyenv/versions/3.11.2/lib/python3.11/site-packages (from pandas) (2.9.0.post0)\n",
      "Requirement already satisfied: pytz>=2020.1 in /Users/stark/.pyenv/versions/3.11.2/lib/python3.11/site-packages (from pandas) (2023.4)\n",
      "Requirement already satisfied: tzdata>=2022.1 in /Users/stark/.pyenv/versions/3.11.2/lib/python3.11/site-packages (from pandas) (2024.1)\n",
      "Requirement already satisfied: contourpy>=1.0.1 in /Users/stark/.pyenv/versions/3.11.2/lib/python3.11/site-packages (from matplotlib) (1.2.1)\n",
      "Requirement already satisfied: cycler>=0.10 in /Users/stark/.pyenv/versions/3.11.2/lib/python3.11/site-packages (from matplotlib) (0.12.1)\n",
      "Requirement already satisfied: fonttools>=4.22.0 in /Users/stark/.pyenv/versions/3.11.2/lib/python3.11/site-packages (from matplotlib) (4.53.0)\n",
      "Requirement already satisfied: kiwisolver>=1.3.1 in /Users/stark/.pyenv/versions/3.11.2/lib/python3.11/site-packages (from matplotlib) (1.4.5)\n",
      "Requirement already satisfied: packaging>=20.0 in /Users/stark/.pyenv/versions/3.11.2/lib/python3.11/site-packages (from matplotlib) (24.0)\n",
      "Requirement already satisfied: pillow>=8 in /Users/stark/.pyenv/versions/3.11.2/lib/python3.11/site-packages (from matplotlib) (9.5.0)\n",
      "Requirement already satisfied: pyparsing>=2.3.1 in /Users/stark/.pyenv/versions/3.11.2/lib/python3.11/site-packages (from matplotlib) (3.1.2)\n",
      "Requirement already satisfied: tenacity>=6.2.0 in /Users/stark/.pyenv/versions/3.11.2/lib/python3.11/site-packages (from plotly) (8.2.3)\n",
      "Requirement already satisfied: dnspython<3.0.0,>=1.16.0 in /Users/stark/.pyenv/versions/3.11.2/lib/python3.11/site-packages (from pymongo) (2.6.1)\n",
      "Requirement already satisfied: requests in /Users/stark/.pyenv/versions/3.11.2/lib/python3.11/site-packages (from eurostat) (2.31.0)\n",
      "Requirement already satisfied: scipy!=1.9.2,>=1.8 in /Users/stark/.pyenv/versions/3.11.2/lib/python3.11/site-packages (from statsmodels) (1.14.0)\n",
      "Requirement already satisfied: patsy>=0.5.6 in /Users/stark/.pyenv/versions/3.11.2/lib/python3.11/site-packages (from statsmodels) (1.0.1)\n",
      "Requirement already satisfied: six>=1.5 in /Users/stark/.pyenv/versions/3.11.2/lib/python3.11/site-packages (from python-dateutil>=2.8.2->pandas) (1.16.0)\n",
      "Requirement already satisfied: charset-normalizer<4,>=2 in /Users/stark/.pyenv/versions/3.11.2/lib/python3.11/site-packages (from requests->eurostat) (3.3.2)\n",
      "Requirement already satisfied: idna<4,>=2.5 in /Users/stark/.pyenv/versions/3.11.2/lib/python3.11/site-packages (from requests->eurostat) (3.6)\n",
      "Requirement already satisfied: urllib3<3,>=1.21.1 in /Users/stark/.pyenv/versions/3.11.2/lib/python3.11/site-packages (from requests->eurostat) (2.0.7)\n",
      "Requirement already satisfied: certifi>=2017.4.17 in /Users/stark/.pyenv/versions/3.11.2/lib/python3.11/site-packages (from requests->eurostat) (2024.2.2)\n",
      "\n",
      "\u001b[1m[\u001b[0m\u001b[34;49mnotice\u001b[0m\u001b[1;39;49m]\u001b[0m\u001b[39;49m A new release of pip is available: \u001b[0m\u001b[31;49m24.2\u001b[0m\u001b[39;49m -> \u001b[0m\u001b[32;49m24.3.1\u001b[0m\n",
      "\u001b[1m[\u001b[0m\u001b[34;49mnotice\u001b[0m\u001b[1;39;49m]\u001b[0m\u001b[39;49m To update, run: \u001b[0m\u001b[32;49mpip install --upgrade pip\u001b[0m\n"
     ]
    }
   ],
   "source": [
    "!pip install pandas numpy matplotlib seaborn plotly psycopg2-binary pymongo python-dotenv eurostat statsmodels"
   ]
  },
  {
   "cell_type": "code",
   "execution_count": 3,
   "metadata": {},
   "outputs": [],
   "source": [
    "import sys\n",
    "import os\n",
    "\n",
    "# Add scripts directory to Python path\n",
    "scripts_dir = os.path.join(os.path.dirname(os.getcwd()), 'scripts')\n",
    "sys.path.append(scripts_dir)\n",
    "\n",
    "from data_processing.db_manager import DatabaseManager\n",
    "from data_collection.eurostat_collector import EurostatCollector\n",
    "from data_processing.data_processor import EducationDataProcessor\n",
    "from analysis.education_analyzer import EducationAnalyzer\n",
    "from visualization.data_visualizer import EducationVisualizer"
   ]
  },
  {
   "cell_type": "markdown",
   "metadata": {},
   "source": [
    "## 2. 数据库连接\n",
    "\n",
    "测试数据库连接："
   ]
  },
  {
   "cell_type": "code",
   "execution_count": 4,
   "metadata": {},
   "outputs": [
    {
     "name": "stderr",
     "output_type": "stream",
     "text": [
      "2024-12-14 20:50:10,314 - INFO - Successfully connected to PostgreSQL\n",
      "2024-12-14 20:50:10,330 - INFO - Successfully connected to MongoDB\n"
     ]
    },
    {
     "name": "stdout",
     "output_type": "stream",
     "text": [
      "PostgreSQL connection: Success\n",
      "MongoDB connection: Success\n"
     ]
    },
    {
     "name": "stderr",
     "output_type": "stream",
     "text": [
      "2024-12-14 20:50:11,427 - INFO - Successfully set up PostgreSQL tables\n"
     ]
    }
   ],
   "source": [
    "# Initialize database manager\n",
    "db_manager = DatabaseManager()\n",
    "\n",
    "# Test connections\n",
    "pg_success = db_manager.connect_postgres()\n",
    "mongo_success = db_manager.connect_mongodb()\n",
    "\n",
    "print(f\"PostgreSQL connection: {'Success' if pg_success else 'Failed'}\")\n",
    "print(f\"MongoDB connection: {'Success' if mongo_success else 'Failed'}\")\n",
    "\n",
    "# Setup PostgreSQL tables\n",
    "if pg_success:\n",
    "    db_manager.setup_postgres_tables()"
   ]
  },
  {
   "cell_type": "markdown",
   "metadata": {},
   "source": [
    "## 3. 数据收集\n",
    "\n",
    "从Eurostat收集教育数据："
   ]
  },
  {
   "cell_type": "code",
   "execution_count": 11,
   "metadata": {},
   "outputs": [
    {
     "name": "stderr",
     "output_type": "stream",
     "text": [
      "2024-12-14 21:00:54,785 - ERROR - Error in main execution: 'DatabaseManager' object has no attribute 'test_connections'\n",
      "2024-12-14 21:00:54,787 - INFO - Closed all database connections\n",
      "2024-12-14 21:00:54,787 - INFO - Closed all database connections\n",
      "2024-12-14 21:00:54,788 - ERROR - Error in main execution: 'DatabaseManager' object has no attribute 'test_connections'\n",
      "2024-12-14 21:00:54,789 - INFO - Closed all database connections\n",
      "2024-12-14 21:00:54,789 - INFO - Closed all database connections\n"
     ]
    }
   ],
   "source": [
    "import sys\n",
    "import logging\n",
    "import os\n",
    "import time\n",
    "import pandas as pd\n",
    "import eurostat\n",
    "\n",
    "# Configure logging\n",
    "logging.basicConfig(level=logging.INFO,\n",
    "                   format='%(asctime)s - %(levelname)s - %(message)s')\n",
    "logger = logging.getLogger(__name__)\n",
    "\n",
    "# Get the project root directory\n",
    "notebook_dir = os.getcwd()  # Get current notebook directory\n",
    "project_root = os.path.dirname(os.path.dirname(notebook_dir))  # Get parent directory\n",
    "sys.path.append(project_root)  # Add to Python path\n",
    "\n",
    "from data_processing.db_manager import DatabaseManager\n",
    "\n",
    "def get_education_data(indicator: str, start_year: int = 2010):\n",
    "    \"\"\"\n",
    "    Retrieve education data for a specific indicator with proper filtering.\n",
    "    \"\"\"\n",
    "    try:\n",
    "        logger.info(f\"Collecting data for indicator: {indicator}\")\n",
    "        \n",
    "        # Get data with specific parameters\n",
    "        data = eurostat.get_data_df(indicator)\n",
    "        \n",
    "        if data is None or data.empty:\n",
    "            logger.error(f\"No data retrieved for indicator {indicator}\")\n",
    "            return None\n",
    "            \n",
    "        # Ensure we have the required columns\n",
    "        if 'geo' not in data.columns:\n",
    "            # Try to reset the index if geo is in the index\n",
    "            if 'geo' in data.index.names:\n",
    "                data = data.reset_index()\n",
    "            else:\n",
    "                logger.error(\"Missing 'geo' column in dataset\")\n",
    "                return None\n",
    "                \n",
    "        # Filter for years >= start_year\n",
    "        if 'time' in data.columns:\n",
    "            data = data[data['time'].astype(str).astype(int) >= start_year]\n",
    "        \n",
    "        return data\n",
    "        \n",
    "    except Exception as e:\n",
    "        logger.error(f\"Error collecting data: {str(e)}\")\n",
    "        return None\n",
    "\n",
    "def main():\n",
    "    \"\"\"Main execution function\"\"\"\n",
    "    try:\n",
    "        # Initialize database manager\n",
    "        db_manager = DatabaseManager()\n",
    "        \n",
    "        # Test database connections\n",
    "        if db_manager.test_connections():\n",
    "            print(\"Database connections successful\")\n",
    "            \n",
    "            # Define indicators\n",
    "            indicators = {\n",
    "                'educ_uoe_enrt01': 'Students by education level',\n",
    "                'educ_uoe_perp01': 'Teaching staff',\n",
    "                'educ_uoe_fina01': 'Education finance'\n",
    "            }\n",
    "            \n",
    "            # Collect and process data for each indicator\n",
    "            for code, description in indicators.items():\n",
    "                logger.info(f\"Processing {description} (Code: {code})\")\n",
    "                df = get_education_data(code)\n",
    "                \n",
    "                if df is not None and not df.empty:\n",
    "                    # Store in databases\n",
    "                    db_manager.store_in_postgres(df, code)\n",
    "                    db_manager.store_in_mongodb(df.to_dict('records'), code)\n",
    "                    logger.info(f\"Successfully processed and stored data for {code}\")\n",
    "                else:\n",
    "                    logger.warning(f\"Skipping {code} due to collection failure\")\n",
    "                    \n",
    "    except Exception as e:\n",
    "        logger.error(f\"Error in main execution: {str(e)}\")\n",
    "    finally:\n",
    "        db_manager.close_connections()\n",
    "        logger.info(\"Closed all database connections\")\n",
    "\n",
    "if __name__ == \"__main__\":\n",
    "    main()\n",
    "\n",
    "# Execute the main function\n",
    "main()"
   ]
  },
  {
   "cell_type": "markdown",
   "metadata": {},
   "source": [
    "## 4. 数据处理\n",
    "\n",
    "处理和清洗收集的数据："
   ]
  },
  {
   "cell_type": "code",
   "execution_count": null,
   "metadata": {},
   "outputs": [],
   "source": [
    "# Initialize processor\n",
    "processor = EducationDataProcessor()\n",
    "\n",
    "# Process all datasets\n",
    "processed_data = processor.process_indicators(collected_data)\n",
    "\n",
    "# Calculate statistics for each dataset\n",
    "for code, df in processed_data.items():\n",
    "    print(f\"\\nStatistics for {collector.base_indicators[code]}:\")\n",
    "    stats = processor.calculate_statistics(df, code)\n",
    "    for stat, value in stats.items():\n",
    "        if isinstance(value, (int, float)):\n",
    "            print(f\"{stat}: {value:.2f}\")"
   ]
  },
  {
   "cell_type": "markdown",
   "metadata": {},
   "source": [
    "## 5. 数据分析\n",
    "\n",
    "分析处理后的数据："
   ]
  },
  {
   "cell_type": "code",
   "execution_count": null,
   "metadata": {},
   "outputs": [],
   "source": [
    "# Initialize analyzer\n",
    "analyzer = EducationAnalyzer()\n",
    "\n",
    "# Select countries for analysis\n",
    "countries = ['DE', 'FR', 'ES', 'IT']\n",
    "\n",
    "for code, df in processed_data.items():\n",
    "    print(f\"\\nAnalysis for {collector.base_indicators[code]}:\")\n",
    "    \n",
    "    # Analyze trends\n",
    "    for country in countries:\n",
    "        trends = analyzer.analyze_trends(df, country)\n",
    "        print(f\"\\nTrends for {country}:\")\n",
    "        for metric, value in trends.items():\n",
    "            print(f\"{metric}: {value:.2f}\")\n",
    "    \n",
    "    # Generate forecasts\n",
    "    print(\"\\nForecasts:\")\n",
    "    for country in countries:\n",
    "        forecast, conf_int = analyzer.generate_forecast(df, country)\n",
    "        if forecast:\n",
    "            print(f\"{country}: Next 5 years: {[f'{x:.2f}' for x in forecast]}\")\n",
    "    \n",
    "    # Compare countries\n",
    "    comparison = analyzer.compare_countries(df, countries)\n",
    "    print(\"\\nCountry Comparison:\")\n",
    "    print(comparison)"
   ]
  },
  {
   "cell_type": "markdown",
   "metadata": {},
   "source": [
    "## 6. 数据可视化\n",
    "\n",
    "创建可视化图表："
   ]
  },
  {
   "cell_type": "code",
   "execution_count": null,
   "metadata": {},
   "outputs": [],
   "source": [
    "# Initialize visualizer\n",
    "visualizer = EducationVisualizer()\n",
    "\n",
    "for code, df in processed_data.items():\n",
    "    indicator_name = collector.base_indicators[code]\n",
    "    \n",
    "    # Plot trends\n",
    "    visualizer.plot_trend(df, countries, \n",
    "                         f\"Education {indicator_name} Trends\",\n",
    "                         f\"plots/{code}_trends.png\")\n",
    "    \n",
    "    # Plot forecasts for each country\n",
    "    for country in countries:\n",
    "        country_data = df[df['geo'] == country]['values'].tolist()\n",
    "        forecast, conf_int = analyzer.generate_forecast(df, country)\n",
    "        if forecast:\n",
    "            visualizer.plot_forecast(country_data, forecast, conf_int,\n",
    "                                    f\"{indicator_name} Forecast for {country}\",\n",
    "                                    f\"plots/{code}_{country}_forecast.html\")\n",
    "    \n",
    "    # Plot country comparison\n",
    "    comparison = analyzer.compare_countries(df, countries)\n",
    "    visualizer.plot_comparison(comparison, 'latest_value',\n",
    "                              f\"{indicator_name} by Country\",\n",
    "                              f\"plots/{code}_comparison.png\")"
   ]
  }
 ],
 "metadata": {
  "kernelspec": {
   "display_name": "Python 3 (ipykernel)",
   "language": "python",
   "name": "python3"
  },
  "language_info": {
   "codemirror_mode": {
    "name": "ipython",
    "version": 3
   },
   "file_extension": ".py",
   "mimetype": "text/x-python",
   "name": "python",
   "nbconvert_exporter": "python",
   "pygments_lexer": "ipython3",
   "version": "3.11.2"
  }
 },
 "nbformat": 4,
 "nbformat_minor": 4
}
