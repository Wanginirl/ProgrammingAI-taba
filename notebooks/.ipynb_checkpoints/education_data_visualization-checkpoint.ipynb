{
 "cells": [
  {
   "cell_type": "markdown",
   "metadata": {},
   "source": [
    "# Education Data Analysis and Visualization\n",
    "\n",
    "This notebook demonstrates various visualizations of education data across EU countries."
   ]
  },
  {
   "cell_type": "code",
   "execution_count": null,
   "metadata": {},
   "source": [
    "# Import required libraries\n",
    "import pandas as pd\n",
    "import numpy as np\n",
    "import matplotlib.pyplot as plt\n",
    "import seaborn as sns\n",
    "import plotly.express as px\n",
    "import plotly.graph_objects as go\n",
    "from plotly.subplots import make_subplots\n",
    "\n",
    "# Set plotting style\n",
    "plt.style.use('default')\n",
    "sns.set_theme(style=\"whitegrid\")\n",
    "\n",
    "# Configure plot settings\n",
    "%matplotlib inline\n",
    "plt.rcParams['figure.figsize'] = [12, 8]\n",
    "plt.rcParams['figure.dpi'] = 100"
   ]
  },
  {
   "cell_type": "markdown",
   "metadata": {},
   "source": [
    "## Load and Prepare Data"
   ]
  },
  {
   "cell_type": "code",
   "execution_count": null,
   "metadata": {},
   "source": [
    "# Load the education data\n",
    "data_path = '../features/education_data/data/processed/education_data.csv'\n",
    "df = pd.read_csv(data_path)\n",
    "\n",
    "# Convert year to datetime\n",
    "df['year'] = pd.to_datetime(df['year'], format='%Y')\n",
    "\n",
    "# Display the first few rows and basic information\n",
    "print(\"Dataset Info:\")\n",
    "print(df.info())\n",
    "print(\"\\nFirst few rows:\")\n",
    "df.head()"
   ]
  },
  {
   "cell_type": "markdown",
   "metadata": {},
   "source": [
    "## Investment Trends Visualization"
   ]
  },
  {
   "cell_type": "code",
   "execution_count": null,
   "metadata": {},
   "source": [
    "def plot_investment_trends():\n",
    "    # Create line plot for investment trends\n",
    "    fig = px.line(df, \n",
    "                  x='year', \n",
    "                  y='education_investment',\n",
    "                  color='country',\n",
    "                  title='Education Investment Trends by Country')\n",
    "    \n",
    "    fig.update_layout(\n",
    "        xaxis_title='Year',\n",
    "        yaxis_title='Investment (% of GDP)',\n",
    "        showlegend=True\n",
    "    )\n",
    "    \n",
    "    fig.show()\n",
    "\n",
    "plot_investment_trends()"
   ]
  },
  {
   "cell_type": "markdown",
   "metadata": {},
   "source": [
    "## Quality Metrics Analysis"
   ]
  },
  {
   "cell_type": "code",
   "execution_count": null,
   "metadata": {},
   "source": [
    "def plot_quality_metrics():\n",
    "    # Create box plots for quality metrics\n",
    "    metrics = ['student_teacher_ratio', 'completion_rate', 'literacy_rate']\n",
    "    \n",
    "    fig = make_subplots(rows=1, cols=len(metrics),\n",
    "                        subplot_titles=metrics)\n",
    "    \n",
    "    for i, metric in enumerate(metrics, 1):\n",
    "        fig.add_trace(\n",
    "            go.Box(y=df[metric], name=metric),\n",
    "            row=1, col=i\n",
    "        )\n",
    "    \n",
    "    fig.update_layout(\n",
    "        title_text='Distribution of Education Quality Metrics',\n",
    "        showlegend=False,\n",
    "        height=600\n",
    "    )\n",
    "    \n",
    "    fig.show()\n",
    "\n",
    "plot_quality_metrics()"
   ]
  },
  {
   "cell_type": "markdown",
   "metadata": {},
   "source": [
    "## Correlation Analysis"
   ]
  },
  {
   "cell_type": "code",
   "execution_count": null,
   "metadata": {},
   "source": [
    "def plot_correlation_heatmap():\n",
    "    # Calculate correlation matrix\n",
    "    numeric_cols = df.select_dtypes(include=[np.number]).columns\n",
    "    corr_matrix = df[numeric_cols].corr()\n",
    "    \n",
    "    # Create heatmap\n",
    "    plt.figure(figsize=(12, 10))\n",
    "    sns.heatmap(corr_matrix, \n",
    "                annot=True,\n",
    "                cmap='coolwarm',\n",
    "                center=0,\n",
    "                fmt='.2f')\n",
    "    \n",
    "    plt.title('Correlation Heatmap of Education Metrics')\n",
    "    plt.tight_layout()\n",
    "    plt.show()\n",
    "\n",
    "plot_correlation_heatmap()"
   ]
  },
  {
   "cell_type": "markdown",
   "metadata": {},
   "source": [
    "## Interactive Dashboard"
   ]
  },
  {
   "cell_type": "code",
   "execution_count": null,
   "metadata": {},
   "source": [
    "def create_dashboard():\n",
    "    # Create subplot figure\n",
    "    fig = make_subplots(\n",
    "        rows=2, cols=2,\n",
    "        subplot_titles=(\n",
    "            'Investment Trends',\n",
    "            'Student-Teacher Ratio',\n",
    "            'Completion Rate',\n",
    "            'Literacy Rate'\n",
    "        )\n",
    "    )\n",
    "    \n",
    "    # Add investment trends\n",
    "    for country in df['country'].unique():\n",
    "        country_data = df[df['country'] == country]\n",
    "        fig.add_trace(\n",
    "            go.Scatter(x=country_data['year'], \n",
    "                      y=country_data['education_investment'],\n",
    "                      name=country,\n",
    "                      mode='lines'),\n",
    "            row=1, col=1\n",
    "        )\n",
    "    \n",
    "    # Add other metrics\n",
    "    fig.add_trace(\n",
    "        go.Box(y=df['student_teacher_ratio'], name='STR'),\n",
    "        row=1, col=2\n",
    "    )\n",
    "    \n",
    "    fig.add_trace(\n",
    "        go.Box(y=df['completion_rate'], name='Completion'),\n",
    "        row=2, col=1\n",
    "    )\n",
    "    \n",
    "    fig.add_trace(\n",
    "        go.Box(y=df['literacy_rate'], name='Literacy'),\n",
    "        row=2, col=2\n",
    "    )\n",
    "    \n",
    "    fig.update_layout(\n",
    "        height=800,\n",
    "        title_text='Education Dashboard',\n",
    "        showlegend=True\n",
    "    )\n",
    "    \n",
    "    fig.show()\n",
    "\n",
    "create_dashboard()"
   ]
  }
 ],
 "metadata": {
  "kernelspec": {
   "display_name": "Python 3",
   "language": "python",
   "name": "python3"
  },
  "language_info": {
   "codemirror_mode": {
    "name": "ipython",
    "version": 3
   },
   "file_extension": ".py",
   "mimetype": "text/x-python",
   "name": "python",
   "nbconvert_exporter": "python",
   "pygments_lexer": "ipython3",
   "version": "3.8.0"
  }
 },
 "nbformat": 4,
 "nbformat_minor": 4
}
