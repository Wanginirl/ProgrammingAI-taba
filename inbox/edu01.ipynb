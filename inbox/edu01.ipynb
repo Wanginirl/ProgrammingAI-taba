{
 "cells": [
  {
   "cell_type": "code",
   "execution_count": 1,
   "metadata": {
    "vscode": {
     "languageId": "plaintext"
    }
   },
   "outputs": [],
   "source": [
    "\"\"\"\n",
    "Education Data Analysis Project\n",
    "This script contains the complete code for analyzing education data across different countries.\n",
    "The analysis includes data collection, storage, and analysis using both SQL and NoSQL databases.\n",
    "\"\"\"\n",
    "\n",
    "# 1. Required Imports\n",
    "import pandas as pd\n",
    "import numpy as np\n",
    "import plotly.express as px\n",
    "import plotly.graph_objects as go\n",
    "from sklearn.model_selection import train_test_split\n",
    "from sklearn.preprocessing import StandardScaler\n",
    "from sklearn.metrics import mean_squared_error, r2_score\n",
    "import statsmodels.api as sm\n",
    "from statsmodels.tsa.statespace.sarimax import SARIMAX\n",
    "import eurostat\n",
    "import logging\n",
    "from datetime import datetime\n",
    "import os\n",
    "from dotenv import load_dotenv\n",
    "from pymongo import MongoClient\n",
    "import psycopg2\n",
    "from psycopg2.extras import execute_values\n",
    "import time\n",
    "from pymongo import UpdateOne\n",
    "from statsmodels.tsa.arima.model import ARIMA\n"
   ]
  },
  {
   "cell_type": "code",
   "execution_count": 9,
   "metadata": {},
   "outputs": [
    {
     "ename": "ModuleNotFoundError",
     "evalue": "No module named 'data_processing'",
     "output_type": "error",
     "traceback": [
      "\u001b[0;31m---------------------------------------------------------------------------\u001b[0m",
      "\u001b[0;31mModuleNotFoundError\u001b[0m                       Traceback (most recent call last)",
      "Cell \u001b[0;32mIn[9], line 20\u001b[0m\n\u001b[1;32m     17\u001b[0m sys\u001b[38;5;241m.\u001b[39mpath\u001b[38;5;241m.\u001b[39mappend(scripts_dir)  \u001b[38;5;66;03m# Add scripts directory to Python path\u001b[39;00m\n\u001b[1;32m     19\u001b[0m \u001b[38;5;66;03m# Now we can import from the scripts directory\u001b[39;00m\n\u001b[0;32m---> 20\u001b[0m \u001b[38;5;28;01mfrom\u001b[39;00m \u001b[38;5;21;01mdata_processing\u001b[39;00m\u001b[38;5;21;01m.\u001b[39;00m\u001b[38;5;21;01mdb_manager\u001b[39;00m \u001b[38;5;28;01mimport\u001b[39;00m DatabaseManager\n\u001b[1;32m     22\u001b[0m \u001b[38;5;28;01mdef\u001b[39;00m \u001b[38;5;21mget_education_data\u001b[39m(indicator: \u001b[38;5;28mstr\u001b[39m, start_year: \u001b[38;5;28mint\u001b[39m \u001b[38;5;241m=\u001b[39m \u001b[38;5;241m2010\u001b[39m):\n\u001b[1;32m     23\u001b[0m \u001b[38;5;250m    \u001b[39m\u001b[38;5;124;03m\"\"\"\u001b[39;00m\n\u001b[1;32m     24\u001b[0m \u001b[38;5;124;03m    Retrieve education data for a specific indicator with proper filtering.\u001b[39;00m\n\u001b[1;32m     25\u001b[0m \u001b[38;5;124;03m    \"\"\"\u001b[39;00m\n",
      "\u001b[0;31mModuleNotFoundError\u001b[0m: No module named 'data_processing'"
     ]
    }
   ],
   "source": [
    "import sys\n",
    "import logging\n",
    "import os\n",
    "import time\n",
    "import pandas as pd\n",
    "import eurostat\n",
    "\n",
    "# Configure logging\n",
    "logging.basicConfig(level=logging.INFO,\n",
    "                   format='%(asctime)s - %(levelname)s - %(message)s')\n",
    "logger = logging.getLogger(__name__)\n",
    "\n",
    "# Get the project root directory and set up the Python path correctly\n",
    "notebook_dir = os.getcwd()  # Get current notebook directory\n",
    "project_root = os.path.dirname(notebook_dir)  # Get parent directory\n",
    "scripts_dir = os.path.join(project_root, 'scripts')  # Get scripts directory\n",
    "sys.path.append(scripts_dir)  # Add scripts directory to Python path\n",
    "\n",
    "# Now we can import from the scripts directory\n",
    "from data_processing.db_manager import DatabaseManager\n",
    "\n",
    "def get_education_data(indicator: str, start_year: int = 2010):\n",
    "    \"\"\"\n",
    "    Retrieve education data for a specific indicator with proper filtering.\n",
    "    \"\"\"\n",
    "    try:\n",
    "        logger.info(f\"Collecting data for indicator: {indicator}\")\n",
    "        \n",
    "        # Get data with specific parameters\n",
    "        data = eurostat.get_data_df(indicator)\n",
    "        \n",
    "        if data is None or data.empty:\n",
    "            logger.error(f\"No data retrieved for indicator {indicator}\")\n",
    "            return None\n",
    "            \n",
    "        # Ensure we have the required columns\n",
    "        if 'geo' not in data.columns:\n",
    "            # Try to reset the index if geo is in the index\n",
    "            if 'geo' in data.index.names:\n",
    "                data = data.reset_index()\n",
    "            else:\n",
    "                logger.error(\"Missing 'geo' column in dataset\")\n",
    "                return None\n",
    "                \n",
    "        # Filter for years >= start_year\n",
    "        if 'time' in data.columns:\n",
    "            data = data[data['time'].astype(str).astype(int) >= start_year]\n",
    "        \n",
    "        return data\n",
    "        \n",
    "    except Exception as e:\n",
    "        logger.error(f\"Error collecting data: {str(e)}\")\n",
    "        return None\n",
    "\n",
    "# Initialize database manager\n",
    "db_manager = DatabaseManager()\n",
    "\n",
    "# Define indicators\n",
    "indicators = {\n",
    "    'educ_uoe_enrt01': 'Students by education level',\n",
    "    'educ_uoe_perp01': 'Teaching staff',\n",
    "    'educ_uoe_fina01': 'Education finance'\n",
    "}\n",
    "\n",
    "# Collect and process data for each indicator\n",
    "for code, description in indicators.items():\n",
    "    logger.info(f\"Processing {description} (Code: {code})\")\n",
    "    df = get_education_data(code)\n",
    "    \n",
    "    if df is not None and not df.empty:\n",
    "        # Store in databases\n",
    "        db_manager.store_in_postgres(df, code)\n",
    "        db_manager.store_in_mongodb(df.to_dict('records'), code)\n",
    "        logger.info(f\"Successfully processed and stored data for {code}\")\n",
    "        \n",
    "        # Display sample of the data\n",
    "        print(f\"\\nSample data for {description}:\")\n",
    "        print(df.head())\n",
    "    else:\n",
    "        logger.warning(f\"Skipping {code} due to collection failure\")\n",
    "\n",
    "# Close database connections\n",
    "db_manager.close_connections()\n",
    "logger.info(\"Closed all database connections\")"
   ]
  },
  {
   "cell_type": "code",
   "execution_count": 4,
   "metadata": {},
   "outputs": [
    {
     "name": "stdout",
     "output_type": "stream",
     "text": [
      "Successfully connected to PostgreSQL\n",
      "Successfully connected to MongoDB\n"
     ]
    },
    {
     "ename": "SyntaxError",
     "evalue": "'return' outside function (748532696.py, line 7)",
     "output_type": "error",
     "traceback": [
      "\u001b[0;36m  Cell \u001b[0;32mIn[4], line 7\u001b[0;36m\u001b[0m\n\u001b[0;31m    return\u001b[0m\n\u001b[0m    ^\u001b[0m\n\u001b[0;31mSyntaxError\u001b[0m\u001b[0;31m:\u001b[0m 'return' outside function\n"
     ]
    }
   ],
   "source": [
    "\n",
    "        # Connect to databases\n",
    "        pg_conn = get_postgres_connection()\n",
    "        mongo_db = get_mongodb_connection()\n",
    "        \n",
    "        if pg_conn is None or mongo_db is None:\n",
    "            print(\"Failed to connect to databases\")\n",
    "            return\n",
    "        \n",
    "        try:\n",
    "            # Test MongoDB connection\n",
    "            mongo_db.command('ping')\n",
    "        except Exception as e:\n",
    "            print(f\"MongoDB connection test failed: {str(e)}\")\n",
    "            return\n",
    "            \n",
    "        # Set up PostgreSQL database\n",
    "        setup_postgres_database(pg_conn)\n",
    "        \n",
    "        # Collect and store data\n",
    "        print(\"\\nCollecting and storing education data...\")\n",
    "        collect_and_store_education_data(pg_conn, mongo_db)\n",
    "        "
   ]
  },
  {
   "cell_type": "code",
   "execution_count": 5,
   "metadata": {},
   "outputs": [
    {
     "name": "stdout",
     "output_type": "stream",
     "text": [
      "\n",
      "Analyzing education metrics...\n",
      "\n",
      "Analyzing data for DE\n",
      "\n",
      "Metrics Analysis for DE:\n",
      "\n",
      "EDUCATION_INVESTMENT:\n",
      "Mean: 8962.50\n",
      "Median: 8962.50\n",
      "\n",
      "STUDENT_TEACHER_RATIO:\n",
      "Mean: 13.55\n",
      "Median: 13.55\n",
      "Trend slope: 3.7000\n",
      "\n",
      "Generating forecasts for DE\n"
     ]
    },
    {
     "name": "stderr",
     "output_type": "stream",
     "text": [
      "/Users/stark/.pyenv/versions/3.11.2/lib/python3.11/site-packages/statsmodels/tsa/statespace/sarimax.py:866: UserWarning: Too few observations to estimate starting parameters for ARMA and trend. All parameters except for variances will be set to zeros.\n",
      "  warn('Too few observations to estimate starting parameters%s.'\n",
      "/Users/stark/.pyenv/versions/3.11.2/lib/python3.11/site-packages/statsmodels/tsa/statespace/mlemodel.py:1235: RuntimeWarning: invalid value encountered in divide\n",
      "  np.inner(score_obs, score_obs) /\n"
     ]
    },
    {
     "name": "stdout",
     "output_type": "stream",
     "text": [
      "\n",
      "Analyzing data for FR\n",
      "\n",
      "Metrics Analysis for FR:\n",
      "\n",
      "EDUCATION_INVESTMENT:\n",
      "Mean: 10107.90\n",
      "Median: 10107.90\n",
      "\n",
      "STUDENT_TEACHER_RATIO:\n",
      "Mean: 14.20\n",
      "Median: 14.20\n",
      "Trend slope: 10.8000\n",
      "\n",
      "Generating forecasts for FR\n"
     ]
    },
    {
     "name": "stderr",
     "output_type": "stream",
     "text": [
      "/Users/stark/.pyenv/versions/3.11.2/lib/python3.11/site-packages/statsmodels/tsa/statespace/sarimax.py:866: UserWarning: Too few observations to estimate starting parameters for ARMA and trend. All parameters except for variances will be set to zeros.\n",
      "  warn('Too few observations to estimate starting parameters%s.'\n",
      "/Users/stark/.pyenv/versions/3.11.2/lib/python3.11/site-packages/statsmodels/tsa/statespace/mlemodel.py:1235: RuntimeWarning: invalid value encountered in divide\n",
      "  np.inner(score_obs, score_obs) /\n"
     ]
    },
    {
     "name": "stdout",
     "output_type": "stream",
     "text": [
      "\n",
      "Analyzing data for IT\n",
      "\n",
      "Metrics Analysis for IT:\n",
      "\n",
      "EDUCATION_INVESTMENT:\n",
      "Mean: 5990.40\n",
      "Median: 5990.40\n",
      "\n",
      "STUDENT_TEACHER_RATIO:\n",
      "Mean: 16.15\n",
      "Median: 16.15\n",
      "Trend slope: -5.7000\n",
      "\n",
      "Generating forecasts for IT\n"
     ]
    },
    {
     "name": "stderr",
     "output_type": "stream",
     "text": [
      "/Users/stark/.pyenv/versions/3.11.2/lib/python3.11/site-packages/statsmodels/tsa/statespace/sarimax.py:866: UserWarning: Too few observations to estimate starting parameters for ARMA and trend. All parameters except for variances will be set to zeros.\n",
      "  warn('Too few observations to estimate starting parameters%s.'\n",
      "/Users/stark/.pyenv/versions/3.11.2/lib/python3.11/site-packages/statsmodels/tsa/statespace/mlemodel.py:1235: RuntimeWarning: invalid value encountered in divide\n",
      "  np.inner(score_obs, score_obs) /\n"
     ]
    },
    {
     "name": "stdout",
     "output_type": "stream",
     "text": [
      "\n",
      "Analyzing data for ES\n",
      "\n",
      "Metrics Analysis for ES:\n",
      "\n",
      "EDUCATION_INVESTMENT:\n",
      "Mean: 4937.90\n",
      "Median: 4937.90\n",
      "\n",
      "STUDENT_TEACHER_RATIO:\n",
      "Mean: 12.90\n",
      "Median: 12.90\n",
      "Trend slope: 1.2000\n",
      "\n",
      "Generating forecasts for ES\n"
     ]
    },
    {
     "name": "stderr",
     "output_type": "stream",
     "text": [
      "/Users/stark/.pyenv/versions/3.11.2/lib/python3.11/site-packages/statsmodels/tsa/statespace/sarimax.py:866: UserWarning: Too few observations to estimate starting parameters for ARMA and trend. All parameters except for variances will be set to zeros.\n",
      "  warn('Too few observations to estimate starting parameters%s.'\n",
      "/Users/stark/.pyenv/versions/3.11.2/lib/python3.11/site-packages/statsmodels/tsa/statespace/mlemodel.py:1235: RuntimeWarning: invalid value encountered in divide\n",
      "  np.inner(score_obs, score_obs) /\n"
     ]
    },
    {
     "name": "stdout",
     "output_type": "stream",
     "text": [
      "\n",
      "Analyzing data for NL\n",
      "\n",
      "Metrics Analysis for NL:\n",
      "\n",
      "EDUCATION_INVESTMENT:\n",
      "Mean: 8616.80\n",
      "Median: 8616.80\n",
      "\n",
      "STUDENT_TEACHER_RATIO:\n",
      "Mean: 18.20\n",
      "Median: 18.20\n",
      "Trend slope: -3.8000\n",
      "\n",
      "Generating forecasts for NL\n"
     ]
    },
    {
     "name": "stderr",
     "output_type": "stream",
     "text": [
      "/Users/stark/.pyenv/versions/3.11.2/lib/python3.11/site-packages/statsmodels/tsa/statespace/sarimax.py:866: UserWarning: Too few observations to estimate starting parameters for ARMA and trend. All parameters except for variances will be set to zeros.\n",
      "  warn('Too few observations to estimate starting parameters%s.'\n",
      "/Users/stark/.pyenv/versions/3.11.2/lib/python3.11/site-packages/statsmodels/tsa/statespace/mlemodel.py:1235: RuntimeWarning: invalid value encountered in divide\n",
      "  np.inner(score_obs, score_obs) /\n"
     ]
    }
   ],
   "source": [
    "\n",
    "        # Analyze metrics for EU countries\n",
    "        print(\"\\nAnalyzing education metrics...\")\n",
    "        eu_countries = ['DE', 'FR', 'IT', 'ES', 'NL']  # Example EU countries\n",
    "        year_range = (2010, 2023)\n",
    "        \n",
    "        for country in eu_countries:\n",
    "            print(f\"\\nAnalyzing data for {country}\")\n",
    "            \n",
    "            # Get metrics analysis\n",
    "            metrics = analyze_education_metrics(mongo_db, country, year_range)\n",
    "            if metrics:\n",
    "                print(f\"\\nMetrics Analysis for {country}:\")\n",
    "                for metric, stats in metrics.items():\n",
    "                    print(f\"\\n{metric.upper()}:\")\n",
    "                    print(f\"Mean: {stats['mean']:.2f}\")\n",
    "                    print(f\"Median: {stats['median']:.2f}\")\n",
    "                    if 'trend' in stats:\n",
    "                        print(f\"Trend slope: {stats['trend']['slope']:.4f}\")\n",
    "            \n",
    "            # Generate forecasts\n",
    "            print(f\"\\nGenerating forecasts for {country}\")\n",
    "            for metric in ['education_investment', 'student_teacher_ratio', 'completion_rate']:\n",
    "                forecast = generate_forecasts(mongo_db, metric, country)\n",
    "                if forecast:\n",
    "                    print(f\"\\n{metric.upper()} Forecast:\")\n",
    "                    for year, value in zip(forecast['years'], forecast['values']):\n",
    "                        print(f\"{year}: {value:.2f}\")\n",
    "        "
   ]
  },
  {
   "cell_type": "code",
   "execution_count": 6,
   "metadata": {},
   "outputs": [
    {
     "name": "stdout",
     "output_type": "stream",
     "text": [
      "\n",
      "Comparing countries...\n"
     ]
    },
    {
     "name": "stderr",
     "output_type": "stream",
     "text": [
      "/var/folders/3n/6qgmz73j6lx3gzkfjw5151nh0000gn/T/ipykernel_91438/1681525303.py:4: RankWarning: Polyfit may be poorly conditioned\n",
      "  comparison = compare_countries(mongo_db, eu_countries, metric, year_range)\n",
      "/var/folders/3n/6qgmz73j6lx3gzkfjw5151nh0000gn/T/ipykernel_91438/1681525303.py:4: RankWarning: Polyfit may be poorly conditioned\n",
      "  comparison = compare_countries(mongo_db, eu_countries, metric, year_range)\n",
      "/var/folders/3n/6qgmz73j6lx3gzkfjw5151nh0000gn/T/ipykernel_91438/1681525303.py:4: RankWarning: Polyfit may be poorly conditioned\n",
      "  comparison = compare_countries(mongo_db, eu_countries, metric, year_range)\n",
      "/var/folders/3n/6qgmz73j6lx3gzkfjw5151nh0000gn/T/ipykernel_91438/1681525303.py:4: RankWarning: Polyfit may be poorly conditioned\n",
      "  comparison = compare_countries(mongo_db, eu_countries, metric, year_range)\n",
      "/var/folders/3n/6qgmz73j6lx3gzkfjw5151nh0000gn/T/ipykernel_91438/1681525303.py:4: RankWarning: Polyfit may be poorly conditioned\n",
      "  comparison = compare_countries(mongo_db, eu_countries, metric, year_range)\n"
     ]
    },
    {
     "name": "stdout",
     "output_type": "stream",
     "text": [
      "\n",
      "EDUCATION_INVESTMENT Comparison:\n",
      "\n",
      "DE:\n",
      "Mean: 8962.50\n",
      "Latest Value: 8962.50\n",
      "Trend: 2.2273\n",
      "\n",
      "FR:\n",
      "Mean: 10107.90\n",
      "Latest Value: 10107.90\n",
      "Trend: 2.5119\n",
      "\n",
      "IT:\n",
      "Mean: 5990.40\n",
      "Latest Value: 5990.40\n",
      "Trend: 1.4887\n",
      "\n",
      "ES:\n",
      "Mean: 4937.90\n",
      "Latest Value: 4937.90\n",
      "Trend: 1.2271\n",
      "\n",
      "NL:\n",
      "Mean: 8616.80\n",
      "Latest Value: 8616.80\n",
      "Trend: 2.1414\n",
      "\n",
      "STUDENT_TEACHER_RATIO Comparison:\n",
      "\n",
      "DE:\n",
      "Mean: 13.55\n",
      "Latest Value: 15.40\n",
      "Trend: 3.7000\n",
      "\n",
      "FR:\n",
      "Mean: 14.20\n",
      "Latest Value: 19.60\n",
      "Trend: 10.8000\n",
      "\n",
      "IT:\n",
      "Mean: 16.15\n",
      "Latest Value: 13.30\n",
      "Trend: -5.7000\n",
      "\n",
      "ES:\n",
      "Mean: 12.90\n",
      "Latest Value: 13.50\n",
      "Trend: 1.2000\n",
      "\n",
      "NL:\n",
      "Mean: 18.20\n",
      "Latest Value: 16.30\n",
      "Trend: -3.8000\n"
     ]
    }
   ],
   "source": [
    "\n",
    "        # Compare countries\n",
    "        print(\"\\nComparing countries...\")\n",
    "        for metric in ['education_investment', 'student_teacher_ratio', 'completion_rate']:\n",
    "            comparison = compare_countries(mongo_db, eu_countries, metric, year_range)\n",
    "            if comparison:\n",
    "                print(f\"\\n{metric.upper()} Comparison:\")\n",
    "                for country, stats in comparison.items():\n",
    "                    print(f\"\\n{country}:\")\n",
    "                    print(f\"Mean: {stats['mean']:.2f}\")\n",
    "                    print(f\"Latest Value: {stats['latest_value']:.2f}\")\n",
    "                    print(f\"Trend: {stats['trend']:.4f}\")"
   ]
  },
  {
   "cell_type": "code",
   "execution_count": null,
   "metadata": {},
   "outputs": [],
   "source": []
  }
 ],
 "metadata": {
  "kernelspec": {
   "display_name": "Python 3 (ipykernel)",
   "language": "python",
   "name": "python3"
  },
  "language_info": {
   "codemirror_mode": {
    "name": "ipython",
    "version": 3
   },
   "file_extension": ".py",
   "mimetype": "text/x-python",
   "name": "python",
   "nbconvert_exporter": "python",
   "pygments_lexer": "ipython3",
   "version": "3.11.2"
  }
 },
 "nbformat": 4,
 "nbformat_minor": 4
}
